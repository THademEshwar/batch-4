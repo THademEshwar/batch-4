{
  "nbformat": 4,
  "nbformat_minor": 0,
  "metadata": {
    "colab": {
      "provenance": [],
      "authorship_tag": "ABX9TyO3BpfKPssof/cNXiltdXla",
      "include_colab_link": true
    },
    "kernelspec": {
      "name": "python3",
      "display_name": "Python 3"
    },
    "language_info": {
      "name": "python"
    }
  },
  "cells": [
    {
      "cell_type": "markdown",
      "metadata": {
        "id": "view-in-github",
        "colab_type": "text"
      },
      "source": [
        "<a href=\"https://colab.research.google.com/github/THademEshwar/batch-4/blob/main/Assignment5.ipynb\" target=\"_parent\"><img src=\"https://colab.research.google.com/assets/colab-badge.svg\" alt=\"Open In Colab\"/></a>"
      ]
    },
    {
      "cell_type": "code",
      "execution_count": null,
      "metadata": {
        "id": "U-StF1_b-CGJ"
      },
      "outputs": [],
      "source": [
        "#import nbconvert #recode the dataset\n",
        "import pandas as pd\n",
        "import numpy as np\n",
        "import matplotlib.pyplot as plt\n",
        "import seaborn as sns\n",
        "%matplotlib inline\n",
        "\n",
        "train = pd.read_csv('titanic_train.csv') # Training set is already available\n",
        "train.head()"
      ]
    },
    {
      "cell_type": "code",
      "source": [
        "train.info(verbose=True)"
      ],
      "metadata": {
        "id": "rfICjR-G-RAM"
      },
      "execution_count": null,
      "outputs": []
    },
    {
      "cell_type": "code",
      "source": [
        "dT=d.T\n",
        "dT.plot.bar(y='count')\n",
        "plt.title(\"Bar plot of the count of numeric features\",fontsize=17)"
      ],
      "metadata": {
        "id": "KJLTloO3-Uds"
      },
      "execution_count": null,
      "outputs": []
    },
    {
      "cell_type": "code",
      "source": [
        "sns.set_style('whitegrid')\n",
        "sns.countplot(x='Survived',data=train,palette='RdBu_r')\n",
        "sns.pairplot(train)"
      ],
      "metadata": {
        "id": "Q9tJDiKY-dJK"
      },
      "execution_count": null,
      "outputs": []
    },
    {
      "cell_type": "code",
      "source": [
        "sns.set_style('whitegrid')\n",
        "sns.countplot(x='Survived',hue='Sex',data=train,palette='RdBu_r')"
      ],
      "metadata": {
        "id": "JY8K4jKi-h26"
      },
      "execution_count": null,
      "outputs": []
    },
    {
      "cell_type": "code",
      "source": [
        "sns.set_style('whitegrid')\n",
        "sns.countplot(x='Survived',hue='Pclass',data=train,palette='rainbow')"
      ],
      "metadata": {
        "id": "XQmEc_Ta-m-r"
      },
      "execution_count": null,
      "outputs": []
    },
    {
      "cell_type": "code",
      "source": [
        "f_class_survived=train.groupby('Pclass')['Survived'].mean()\n",
        "f_class_survived = pd.DataFrame(f_class_survived)\n",
        "f_class_survived\n",
        "f_class_survived.plot.bar(y='Survived')\n",
        "sns.countplot(x='Survived',data=f_class_survived,palette='rainbow')\n",
        "plt.title(\"Fraction of passengers survived by class\",fontsize=17)"
      ],
      "metadata": {
        "id": "eFYz8th0-vEA"
      },
      "execution_count": null,
      "outputs": []
    },
    {
      "cell_type": "code",
      "source": [
        "sns.set_style('whitegrid')\n",
        "sns.countplot(x='Survived',hue='SibSp',data=train,palette='rainbow')"
      ],
      "metadata": {
        "id": "XEIb8PzY-2H7"
      },
      "execution_count": null,
      "outputs": []
    },
    {
      "cell_type": "code",
      "source": [
        "plt.xlabel(\"Age of the passengers\",fontsize=18)\n",
        "plt.ylabel(\"Count\",fontsize=18)\n",
        "plt.title(\"Age histogram of the passengers\",fontsize=22)\n",
        "#train['Age'].hist(bins=30,color='darkred',alpha=0.7,figsize=(10,6))\n",
        "train['Age'].hist()"
      ],
      "metadata": {
        "id": "yB77HdSf-7Wf"
      },
      "execution_count": null,
      "outputs": []
    },
    {
      "cell_type": "code",
      "source": [
        "plt.figure(figsize=(12, 10))\n",
        "plt.xlabel(\"Passenger Class\",fontsize=18)\n",
        "plt.ylabel(\"Age\",fontsize=18)\n",
        "sns.boxplot(x='Pclass',y='Age',data=train,palette='winter')"
      ],
      "metadata": {
        "id": "1ocTadpw-_IQ"
      },
      "execution_count": null,
      "outputs": []
    },
    {
      "cell_type": "code",
      "source": [
        "f_class_Age=train.groupby('Pclass')['Age'].mean()\n",
        "f_class_Age = pd.DataFrame(f_class_Age)\n",
        "\n",
        "f_class_Age.plot.bar(y='Age')\n",
        "plt.title(\"Average age of passengers by class\",fontsize=17)\n",
        "plt.ylabel(\"Age (years)\", fontsize=17)\n",
        "plt.xlabel(\"Passenger class\", fontsize=17)"
      ],
      "metadata": {
        "id": "8lp1PPMG_CzI"
      },
      "execution_count": null,
      "outputs": []
    },
    {
      "cell_type": "code",
      "source": [
        "sex = pd.get_dummies(train['Sex'],drop_first=True)\n",
        "embark = pd.get_dummies(train['Embarked'],drop_first=True)"
      ],
      "metadata": {
        "id": "j9ruxCju_HRt"
      },
      "execution_count": null,
      "outputs": []
    },
    {
      "cell_type": "code",
      "source": [
        "train.drop(['Sex','Embarked'],axis=1,inplace=True)\n",
        "train = pd.concat([train,sex,embark],axis=1)\n",
        "train.head()"
      ],
      "metadata": {
        "id": "UisXhDvX_O_w"
      },
      "execution_count": null,
      "outputs": []
    },
    {
      "cell_type": "code",
      "source": [
        "from sklearn.linear_model import LogisticRegression\n",
        "from sklearn.metrics import classification_report\n",
        "nsimu=201\n",
        "penalty=[0]*nsimu\n",
        "logmodel=[0]*nsimu\n",
        "predictions =[0]*nsimu\n",
        "class_report = [0]*nsimu\n",
        "f1=[0]*nsimu\n",
        "\n",
        "for i in range(1,nsimu):\n",
        "        logmodel[i] =(LogisticRegression(C=i/1000,tol=1e-4, max_iter=int(1e6),\n",
        "                                         n_jobs=4))\n",
        "        logmodel[i].fit(X_train,y_train)\n",
        "        predictions[i] = logmodel[i].predict(X_test)\n",
        "        class_report[i] = classification_report(y_test,predictions[i])\n",
        "        l=class_report[i].split()\n",
        "        f1[i] = l[len(l)-2]\n",
        "        penalty[i]=1000/i\n",
        "\n",
        "plt.scatter(penalty[1:len(penalty)-2],f1[1:len(f1)-2])\n",
        "plt.title(\"F1-score vs. regularization parameter\",fontsize=20)\n",
        "plt.xlabel(\"Penalty parameter\",fontsize=17)\n",
        "plt.ylabel(\"F1-score on test data\",fontsize=17)\n",
        "plt.show()"
      ],
      "metadata": {
        "id": "-QRM3b82_VAx"
      },
      "execution_count": null,
      "outputs": []
    },
    {
      "cell_type": "code",
      "source": [
        "plt.figure(figsize=(12,4))\n",
        "plt.title(\"People's weight in kgs\",fontsize=16,\n",
        "          fontstyle='italic')\n",
        "\n",
        "# Main plot function 'bar'\n",
        "plt.bar(x=people,height=weight, width=0.6,\n",
        "        color='orange',edgecolor='k',alpha=0.6)\n",
        "\n",
        "plt.xlabel(\"People\",fontsize=15)\n",
        "plt.xticks(fontsize=14,rotation=30)\n",
        "plt.yticks(fontsize=14)\n",
        "plt.ylabel(\"Weight (in kgs)\",fontsize=15)\n",
        "plt.show()"
      ],
      "metadata": {
        "id": "dOhD3IYC_leH"
      },
      "execution_count": null,
      "outputs": []
    },
    {
      "cell_type": "code",
      "source": [
        "import numpy as np\n",
        "plt.figure(figsize=(7,5))\n",
        "\n",
        "# Main plot function 'hist'\n",
        "plt.hist(weight,color='red',edgecolor='k', alpha=0.75,bins=5)\n",
        "\n",
        "plt.title(\"Histogram of patient weight\",fontsize=18)\n",
        "plt.xlabel(\"Weight in kgs\",fontsize=15)\n",
        "plt.xticks(fontsize=15)\n",
        "plt.yticks(fontsize=15)\n",
        "plt.show()"
      ],
      "metadata": {
        "id": "mOcjrlIT_ma9"
      },
      "execution_count": null,
      "outputs": []
    },
    {
      "cell_type": "code",
      "source": [
        "import numpy as np\n",
        "import pandas as pd\n",
        "df1 = pd.read_table(\"Lab01-Text.txt\")\n",
        "df1\n",
        "data2 = pd.read_csv(\"Lab01-Text.csv\")\n",
        "data2\n",
        "data3 = pd.read_excel(\"Height_weight.xlsx\")\n",
        "data3"
      ],
      "metadata": {
        "id": "ZZN4gb9z_r92"
      },
      "execution_count": null,
      "outputs": []
    }
  ]
}