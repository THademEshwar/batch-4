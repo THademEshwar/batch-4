{
  "nbformat": 4,
  "nbformat_minor": 0,
  "metadata": {
    "colab": {
      "provenance": [],
      "authorship_tag": "ABX9TyMtkFt8rb5Zk7w+NNFNMIBP",
      "include_colab_link": true
    },
    "kernelspec": {
      "name": "python3",
      "display_name": "Python 3"
    },
    "language_info": {
      "name": "python"
    }
  },
  "cells": [
    {
      "cell_type": "markdown",
      "metadata": {
        "id": "view-in-github",
        "colab_type": "text"
      },
      "source": [
        "<a href=\"https://colab.research.google.com/github/THademEshwar/batch-4/blob/main/Assignment4.ipynb\" target=\"_parent\"><img src=\"https://colab.research.google.com/assets/colab-badge.svg\" alt=\"Open In Colab\"/></a>"
      ]
    },
    {
      "cell_type": "code",
      "execution_count": null,
      "metadata": {
        "id": "9rqOOso-5gnI"
      },
      "outputs": [],
      "source": [
        "import numpy as np\n",
        "import pandas as pd\n",
        "import matplotlib.pyplot as plt\n",
        "import seaborn as sns\n",
        "%matplotlib inline\n",
        "df = pd.read_csv(\"USA_Housing.csv\")\n",
        "df.head()"
      ]
    },
    {
      "cell_type": "code",
      "source": [
        "df.info(verbose=True)"
      ],
      "metadata": {
        "id": "aL4nh5dA5zGl"
      },
      "execution_count": null,
      "outputs": []
    },
    {
      "cell_type": "code",
      "source": [
        "df.describe(percentiles=[0.1,0.25,0.5,0.75,0.9])"
      ],
      "metadata": {
        "id": "OsY7pD5D7C2B"
      },
      "execution_count": null,
      "outputs": []
    },
    {
      "cell_type": "code",
      "source": [
        "df.columns\n",
        "Index(['Avg. Area Income', 'Avg. Area House Age', 'Avg. Area Number of Rooms',\n",
        "       'Avg. Area Number of Bedrooms', 'Area Population', 'Price', 'Address'],\n",
        "      dtype='object')"
      ],
      "metadata": {
        "id": "8WjAURDW7Lbi"
      },
      "execution_count": null,
      "outputs": []
    },
    {
      "cell_type": "code",
      "source": [
        "sns.pairplot(df)"
      ],
      "metadata": {
        "id": "0cHz4j3P7UIg"
      },
      "execution_count": null,
      "outputs": []
    },
    {
      "cell_type": "code",
      "source": [
        "df['Price'].plot.hist(bins=25,figsize=(8,4))"
      ],
      "metadata": {
        "id": "ixDFldTL7X94"
      },
      "execution_count": null,
      "outputs": []
    },
    {
      "cell_type": "code",
      "source": [
        "df['Price'].plot.density()"
      ],
      "metadata": {
        "id": "8zubeeww7ZMA"
      },
      "execution_count": null,
      "outputs": []
    },
    {
      "cell_type": "code",
      "source": [
        "plt.figure(figsize=(10,7))\n",
        "sns.heatmap(df.corr(),annot=True,linewidths=2)"
      ],
      "metadata": {
        "id": "Rr4JHaVL7dFI"
      },
      "execution_count": null,
      "outputs": []
    },
    {
      "cell_type": "code",
      "source": [
        "l_column = list(df.columns) # Making a list out of column names\n",
        "len_feature = len(l_column) # Length of column vector list\n",
        "l_column"
      ],
      "metadata": {
        "id": "Gw6wmkjX7hYM"
      },
      "execution_count": null,
      "outputs": []
    },
    {
      "cell_type": "code",
      "source": [
        "X = df[l_column[0:len_feature-2]]\n",
        "y = df[l_column[len_feature-2]]\n",
        "print(\"Feature set size:\",X.shape)\n",
        "print(\"Variable set size:\",y.shape)\n",
        "Feature set size: (5000, 5)\n",
        "Variable set size: (5000,)"
      ],
      "metadata": {
        "id": "pWrL3tXK7vtg"
      },
      "execution_count": null,
      "outputs": []
    },
    {
      "cell_type": "code",
      "source": [
        "from sklearn.model_selection import train_test_split"
      ],
      "metadata": {
        "id": "hR25pZ_y71CF"
      },
      "execution_count": null,
      "outputs": []
    },
    {
      "cell_type": "code",
      "source": [
        "X_train, X_test, y_train, y_test = train_test_split(X, y,\n",
        "                            test_size=0.3, random_state=123)"
      ],
      "metadata": {
        "id": "Z6m71bee75IN"
      },
      "execution_count": null,
      "outputs": []
    },
    {
      "cell_type": "code",
      "source": [
        "print(\"Training feature set size:\",X_train.shape)\n",
        "print(\"Test feature set size:\",X_test.shape)\n",
        "print(\"Training variable set size:\",y_train.shape)\n",
        "print(\"Test variable set size:\",y_test.shape)\n",
        "Training feature set size: (3500, 5)\n",
        "Test feature set size: (1500, 5)\n",
        "Training variable set size: (3500,)\n",
        "Test variable set size: (1500,)"
      ],
      "metadata": {
        "id": "om8xnS-D7_1l"
      },
      "execution_count": null,
      "outputs": []
    },
    {
      "cell_type": "code",
      "source": [
        "n=X_train.shape[0]\n",
        "k=X_train.shape[1]\n",
        "dfN = n-k\n",
        "train_pred=lm.predict(X_train)\n",
        "train_error = np.square(train_pred - y_train)\n",
        "sum_error=np.sum(train_error)\n",
        "se=[0,0,0,0,0]\n",
        "for i in range(k):\n",
        "    r = (sum_error/dfN)\n",
        "    r = r/np.sum(np.square(X_train[\n",
        "        list(X_train.columns)[i]]-X_train[list(X_train.columns)[i]].mean()))\n",
        "    se[i]=np.sqrt(r)\n",
        "cdf['Standard Error']=se\n",
        "cdf['t-statistic']=cdf['Coefficients']/cdf['Standard Error']\n",
        "cdf"
      ],
      "metadata": {
        "id": "RzSDGDvk8WZX"
      },
      "execution_count": null,
      "outputs": []
    },
    {
      "cell_type": "code",
      "source": [
        "print(\"Therefore, features arranged in the order of importance for predicting the house price\\n\",'-'*90,sep='')\n",
        "l=list(cdf.sort_values('t-statistic',ascending=False).index)\n",
        "print(' > \\n'.join(l))"
      ],
      "metadata": {
        "id": "CLZaDLUt8eFr"
      },
      "execution_count": null,
      "outputs": []
    },
    {
      "cell_type": "code",
      "source": [
        "l=list(cdf.index)\n",
        "from matplotlib import gridspec\n",
        "fig = plt.figure(figsize=(18, 10))\n",
        "gs = gridspec.GridSpec(2,3)\n",
        "#f, ax = plt.subplots(nrows=1,ncols=len(l), sharey=True)\n",
        "ax0 = plt.subplot(gs[0])\n",
        "ax0.scatter(df[l[0]],df['Price'])\n",
        "ax0.set_title(l[0]+\" vs. Price\", fontdict={'fontsize':20})\n",
        "\n",
        "ax1 = plt.subplot(gs[1])\n",
        "ax1.scatter(df[l[1]],df['Price'])\n",
        "ax1.set_title(l[1]+\" vs. Price\",fontdict={'fontsize':20})\n",
        "\n",
        "ax2 = plt.subplot(gs[2])\n",
        "ax2.scatter(df[l[2]],df['Price'])\n",
        "ax2.set_title(l[2]+\" vs. Price\",fontdict={'fontsize':20})\n",
        "\n",
        "ax3 = plt.subplot(gs[3])\n",
        "ax3.scatter(df[l[3]],df['Price'])\n",
        "ax3.set_title(l[3]+\" vs. Price\",fontdict={'fontsize':20})\n",
        "\n",
        "ax4 = plt.subplot(gs[4])\n",
        "ax4.scatter(df[l[4]],df['Price'])\n",
        "ax4.set_title(l[4]+\" vs. Price\",fontdict={'fontsize':20})"
      ],
      "metadata": {
        "id": "bJspR0Kj8ih9"
      },
      "execution_count": null,
      "outputs": []
    },
    {
      "cell_type": "code",
      "source": [
        "plt.figure(figsize=(10,7))\n",
        "plt.title(\"Actual vs. predicted house prices\",fontsize=25)\n",
        "plt.xlabel(\"Actual test set house prices\",fontsize=18)\n",
        "plt.ylabel(\"Predicted house prices\", fontsize=18)\n",
        "plt.scatter(x=y_test,y=predictions)"
      ],
      "metadata": {
        "id": "TLf5d2PT8nIy"
      },
      "execution_count": null,
      "outputs": []
    },
    {
      "cell_type": "code",
      "source": [
        "plt.figure(figsize=(10,7))\n",
        "plt.title(\"Residuals vs. predicted values plot (Homoscedasticity)\\n\",fontsize=25)\n",
        "plt.xlabel(\"Predicted house prices\",fontsize=18)\n",
        "plt.ylabel(\"Residuals\", fontsize=18)\n",
        "plt.scatter(x=predictions,y=y_test-predictions)"
      ],
      "metadata": {
        "id": "LlB1ZtGE8u3W"
      },
      "execution_count": null,
      "outputs": []
    },
    {
      "cell_type": "code",
      "source": [
        "#compute minmax value for observed price and expected price\n",
        "import numpy as np\n",
        "min=np.min(predictions/6000)\n",
        "max=np.max(predictions/12000)\n",
        "print(min, max)"
      ],
      "metadata": {
        "id": "pC5XuhwW8-YZ"
      },
      "execution_count": null,
      "outputs": []
    },
    {
      "cell_type": "code",
      "source": [
        "#Compute MinMax value for Price=100\n",
        "L = (100 - min)/(max - min)\n",
        "L\n",
        "plt.hist(L)"
      ],
      "metadata": {
        "id": "BCSW51tl9HBR"
      },
      "execution_count": null,
      "outputs": []
    }
  ]
}